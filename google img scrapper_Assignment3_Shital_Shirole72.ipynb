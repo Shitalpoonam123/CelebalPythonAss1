{
 "cells": [
  {
   "cell_type": "code",
   "execution_count": 1,
   "id": "9e1fd0a6",
   "metadata": {},
   "outputs": [
    {
     "name": "stdout",
     "output_type": "stream",
     "text": [
      "Requirement already satisfied: simple-image-download in c:\\users\\admin\\appdata\\local\\programs\\python\\python39\\lib\\site-packages (0.4)\n",
      "Requirement already satisfied: requests in c:\\users\\admin\\appdata\\local\\programs\\python\\python39\\lib\\site-packages (from simple-image-download) (2.27.1)\n",
      "Requirement already satisfied: progressbar in c:\\users\\admin\\appdata\\local\\programs\\python\\python39\\lib\\site-packages (from simple-image-download) (2.5)\n",
      "Requirement already satisfied: python-magic-bin==0.4.14 in c:\\users\\admin\\appdata\\local\\programs\\python\\python39\\lib\\site-packages (from simple-image-download) (0.4.14)\n",
      "Requirement already satisfied: charset-normalizer~=2.0.0 in c:\\users\\admin\\appdata\\local\\programs\\python\\python39\\lib\\site-packages (from requests->simple-image-download) (2.0.12)\n",
      "Requirement already satisfied: idna<4,>=2.5 in c:\\users\\admin\\appdata\\local\\programs\\python\\python39\\lib\\site-packages (from requests->simple-image-download) (3.3)\n",
      "Requirement already satisfied: certifi>=2017.4.17 in c:\\users\\admin\\appdata\\local\\programs\\python\\python39\\lib\\site-packages (from requests->simple-image-download) (2021.10.8)\n",
      "Requirement already satisfied: urllib3<1.27,>=1.21.1 in c:\\users\\admin\\appdata\\local\\programs\\python\\python39\\lib\\site-packages (from requests->simple-image-download) (1.26.8)\n"
     ]
    },
    {
     "name": "stderr",
     "output_type": "stream",
     "text": [
      "WARNING: You are using pip version 21.1.3; however, version 22.0.3 is available.\n",
      "You should consider upgrading via the 'c:\\users\\admin\\appdata\\local\\programs\\python\\python39\\python.exe -m pip install --upgrade pip' command.\n"
     ]
    }
   ],
   "source": [
    "!pip install simple-image-download"
   ]
  },
  {
   "cell_type": "code",
   "execution_count": 2,
   "id": "17fc5c3b",
   "metadata": {},
   "outputs": [],
   "source": [
    "from simple_image_download import simple_image_download as simp"
   ]
  },
  {
   "cell_type": "code",
   "execution_count": 3,
   "id": "5a6d35d5",
   "metadata": {},
   "outputs": [],
   "source": [
    "search_queries = [\"Ragdoll cat image\"]"
   ]
  },
  {
   "cell_type": "code",
   "execution_count": 4,
   "id": "a7af45de",
   "metadata": {},
   "outputs": [
    {
     "name": "stderr",
     "output_type": "stream",
     "text": [
      "[                                                                        ]   0%\r"
     ]
    },
    {
     "name": "stdout",
     "output_type": "stream",
     "text": [
      "Ragdoll cat image\n"
     ]
    },
    {
     "name": "stderr",
     "output_type": "stream",
     "text": [
      "[========================================================================] 100%\n"
     ]
    }
   ],
   "source": [
    "for query in search_queries:\n",
    "    print(query)\n",
    "    response= simp.simple_image_download\n",
    "    response().download(query, 300)"
   ]
  },
  {
   "cell_type": "code",
   "execution_count": null,
   "id": "f9e12fc1",
   "metadata": {},
   "outputs": [],
   "source": []
  }
 ],
 "metadata": {
  "kernelspec": {
   "display_name": "Python 3 (ipykernel)",
   "language": "python",
   "name": "python3"
  },
  "language_info": {
   "codemirror_mode": {
    "name": "ipython",
    "version": 3
   },
   "file_extension": ".py",
   "mimetype": "text/x-python",
   "name": "python",
   "nbconvert_exporter": "python",
   "pygments_lexer": "ipython3",
   "version": "3.9.6"
  }
 },
 "nbformat": 4,
 "nbformat_minor": 5
}
